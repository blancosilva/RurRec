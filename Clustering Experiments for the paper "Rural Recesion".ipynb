{
 "cells": [
  {
   "cell_type": "code",
   "execution_count": null,
   "metadata": {
    "collapsed": false
   },
   "outputs": [],
   "source": [
    "import numpy as np, pandas as pd\n",
    "\n",
    "from sas7bdat import SAS7BDAT\n",
    "from joe import *\n",
    "\n",
    "import bokeh\n",
    "bokeh.sampledata.download()\n",
    "from bokeh.sampledata.us_counties import data as counties\n",
    "\n",
    "from sklearn.decomposition import PCA\n",
    "from sklearn import cluster"
   ]
  },
  {
   "cell_type": "code",
   "execution_count": null,
   "metadata": {
    "collapsed": false
   },
   "outputs": [],
   "source": [
    "counties_df = pd.DataFrame.from_dict(counties, orient='index')\n",
    "counties_df.state = counties_df.state.apply(lambda x: x.upper())"
   ]
  },
  {
   "cell_type": "code",
   "execution_count": null,
   "metadata": {
    "collapsed": true
   },
   "outputs": [],
   "source": [
    "countiesplus_df = pd.DataFrame.from_dict(counties, orient='index')\n",
    "countiesplus_df.state = countiesplus_df.state.apply(lambda x: x.upper())"
   ]
  },
  {
   "cell_type": "code",
   "execution_count": null,
   "metadata": {
    "collapsed": false
   },
   "outputs": [],
   "source": [
    "with SAS7BDAT('ace.sas7bdat') as f:\n",
    "    df = f.to_data_frame()"
   ]
  },
  {
   "cell_type": "code",
   "execution_count": null,
   "metadata": {
    "collapsed": false
   },
   "outputs": [],
   "source": [
    "# To understand the different columns and their meanings, uncomment and examine the following output\n",
    "print(df.loc[28])"
   ]
  },
  {
   "cell_type": "code",
   "execution_count": null,
   "metadata": {
    "collapsed": false
   },
   "outputs": [],
   "source": [
    "set([item[0] for item in df.columns])"
   ]
  },
  {
   "cell_type": "code",
   "execution_count": null,
   "metadata": {
    "collapsed": false
   },
   "outputs": [],
   "source": [
    "# To replicate the experiments of Kevin, collect only poverty, uninsured and unemployment rates for 2014\n",
    "\n",
    "data = df[['f12424','f00010','f00002','ppov2014', 'punins2014','punemp2014']]\n",
    "data.columns = ['state','name','zip','ppov2014', 'punins2014','punemp2014']"
   ]
  },
  {
   "cell_type": "code",
   "execution_count": null,
   "metadata": {
    "collapsed": false
   },
   "outputs": [],
   "source": [
    "#spectral = cluster.SpectralClustering(n_clusters=9, eigen_solver='arpack', assign_labels=\"discretize\")\n",
    "spectral = cluster.SpectralClustering(n_clusters=9, eigen_solver='arpack', assign_labels=\"kmeans\", n_neighbors=10)"
   ]
  },
  {
   "cell_type": "code",
   "execution_count": null,
   "metadata": {
    "collapsed": false
   },
   "outputs": [],
   "source": [
    "spectral.fit(data[['ppov2014','punins2014','punemp2014']].values)"
   ]
  },
  {
   "cell_type": "code",
   "execution_count": null,
   "metadata": {
    "collapsed": false
   },
   "outputs": [],
   "source": [
    "data['cluster'] = spectral.labels_.astype(int)"
   ]
  },
  {
   "cell_type": "code",
   "execution_count": null,
   "metadata": {
    "collapsed": false
   },
   "outputs": [],
   "source": [
    "# To examine the structure of counties_df, uncomment the following\n",
    "# counties_df.loc[1,57]"
   ]
  },
  {
   "cell_type": "code",
   "execution_count": null,
   "metadata": {
    "collapsed": false
   },
   "outputs": [],
   "source": [
    "counties_df['zip']=\"\"\n",
    "for index in counties_df.index:\n",
    "    counties_df['zip'][index]= \"%02i%03i\" % index\n",
    "\n",
    "#counties_plus = pd.merge(counties_df, data, how=\"left\", on=\"zip\").dropna()\n",
    "counties_df = pd.merge(counties_df, data[['zip','ppov2014','punins2014','punemp2014','cluster']], how=\"left\", on=\"zip\").dropna()"
   ]
  },
  {
   "cell_type": "code",
   "execution_count": null,
   "metadata": {
    "collapsed": false
   },
   "outputs": [],
   "source": [
    "pca = PCA(n_components=2)\n",
    "pca.fit(counties_df[['ppov2014','punins2014','punemp2014']].values)\n",
    "\n",
    "projected_data = pca.transform(counties_df[['ppov2014','punins2014','punemp2014']].values)"
   ]
  },
  {
   "cell_type": "code",
   "execution_count": null,
   "metadata": {
    "collapsed": false
   },
   "outputs": [],
   "source": [
    "counties_df['projected_x']=projected_data[:,0]\n",
    "counties_df['projected_y']=projected_data[:,1]"
   ]
  },
  {
   "cell_type": "code",
   "execution_count": null,
   "metadata": {
    "collapsed": true
   },
   "outputs": [],
   "source": [
    "counties_df.to_pickle(\"ruralrecesion.pkl\")"
   ]
  },
  {
   "cell_type": "code",
   "execution_count": null,
   "metadata": {
    "collapsed": false
   },
   "outputs": [],
   "source": [
    "# I will now collect those three categories for the years 2010, 2011, 2012, 2013 and 2014, and repeat the experiment\n",
    "\n",
    "dataplus = df[['f12424','f00010','f00002',\n",
    "               'ppov2010', 'ppov2011','ppov2012','ppov2013', 'ppov2014',\n",
    "               'punins2010', 'punins2011', 'punins2012', 'punins2013', 'punins2014',\n",
    "               'punemp2010', 'punemp2011', 'punemp2012', 'punemp2013', 'punemp2014']].dropna()\n",
    "dataplus.columns = ['state','name','zip',\n",
    "                    'ppov2010', 'ppov2011','ppov2012','ppov2013', 'ppov2014',\n",
    "                    'punins2010', 'punins2011', 'punins2012', 'punins2013', 'punins2014',\n",
    "                    'punemp2010', 'punemp2011', 'punemp2012', 'punemp2013', 'punemp2014']"
   ]
  },
  {
   "cell_type": "code",
   "execution_count": null,
   "metadata": {
    "collapsed": false
   },
   "outputs": [],
   "source": [
    "spectral = cluster.SpectralClustering(n_clusters=9, eigen_solver='arpack', assign_labels=\"kmeans\", n_neighbors=10)\n",
    "spectral.fit(dataplus[['ppov2010', 'ppov2011','ppov2012','ppov2013', 'ppov2014',\n",
    "                       'punins2010', 'punins2011', 'punins2012', 'punins2013', 'punins2014',\n",
    "                       'punemp2010', 'punemp2011', 'punemp2012', 'punemp2013', 'punemp2014']].values)"
   ]
  },
  {
   "cell_type": "code",
   "execution_count": null,
   "metadata": {
    "collapsed": true
   },
   "outputs": [],
   "source": [
    "dataplus['cluster'] = spectral.labels_.astype(int)"
   ]
  },
  {
   "cell_type": "code",
   "execution_count": null,
   "metadata": {
    "collapsed": true
   },
   "outputs": [],
   "source": [
    "countiesplus_df['zip']=\"\"\n",
    "for index in countiesplus_df.index:\n",
    "    countiesplus_df['zip'][index]= \"%02i%03i\" % index\n",
    "\n",
    "countiesplus_df = pd.merge(countiesplus_df, \n",
    "                           dataplus[['zip',\n",
    "                                     'ppov2010', 'ppov2011','ppov2012','ppov2013', 'ppov2014',\n",
    "                                     'punins2010', 'punins2011', 'punins2012', 'punins2013', 'punins2014',\n",
    "                                     'punemp2010', 'punemp2011', 'punemp2012', 'punemp2013', 'punemp2014',\n",
    "                                     'cluster']], how=\"left\", on=\"zip\").dropna()"
   ]
  },
  {
   "cell_type": "code",
   "execution_count": null,
   "metadata": {
    "collapsed": true
   },
   "outputs": [],
   "source": [
    "pca = PCA(n_components=3)\n",
    "pca.fit(countiesplus_df[['ppov2010', 'ppov2011','ppov2012','ppov2013', 'ppov2014',\n",
    "                         'punins2010', 'punins2011', 'punins2012', 'punins2013', 'punins2014',\n",
    "                         'punemp2010', 'punemp2011', 'punemp2012', 'punemp2013', 'punemp2014']].values)\n",
    "\n",
    "projected_data = pca.transform(countiesplus_df[['ppov2010', 'ppov2011','ppov2012','ppov2013', 'ppov2014',\n",
    "                                                'punins2010', 'punins2011', 'punins2012', 'punins2013', 'punins2014',\n",
    "                                                'punemp2010', 'punemp2011', 'punemp2012', 'punemp2013', 'punemp2014']].values)"
   ]
  },
  {
   "cell_type": "code",
   "execution_count": null,
   "metadata": {
    "collapsed": true
   },
   "outputs": [],
   "source": [
    "countiesplus_df['projected_x']=projected_data[:,0]\n",
    "countiesplus_df['projected_y']=projected_data[:,1]\n",
    "countiesplus_df['projected_z']=projected_data[:,2]"
   ]
  },
  {
   "cell_type": "code",
   "execution_count": null,
   "metadata": {
    "collapsed": true
   },
   "outputs": [],
   "source": [
    "countiesplus_df.to_pickle(\"ruralrecesionplus.pkl\")"
   ]
  },
  {
   "cell_type": "code",
   "execution_count": null,
   "metadata": {
    "collapsed": true
   },
   "outputs": [],
   "source": [
    "#  The next cells could be used to perform a ranking of counties, by restricting the dimension of the clustering to one"
   ]
  },
  {
   "cell_type": "code",
   "execution_count": null,
   "metadata": {
    "collapsed": false
   },
   "outputs": [],
   "source": [
    "V, result = fast_sort_frame(data[['ppov2014','punins2014','punemp2014']])\n",
    "\n",
    "result2 = result.reindex(range(len(result)))\n",
    "\n",
    "#trace = Scatter3d(x=result.ppov2014,\n",
    "#                  y=result.punins2014,\n",
    "#                  z=result.punemp2014,\n",
    "#                  text=(data.name+\", \"+data.state).loc[result.index],\n",
    "#                  marker=dict(size=3, color=255*(result2.index)/len(result2),\n",
    "#                              line=dict(color='rgba(217, 217, 217, 0.14)',width=0.5)))\n",
    "#\n",
    "#layout = Layout(dict(showlegend=False))\n",
    "\n",
    "#fig = Figure(data=[trace], layout=layout)\n",
    "#iplot(fig, show_link=False)"
   ]
  },
  {
   "cell_type": "code",
   "execution_count": null,
   "metadata": {
    "collapsed": true
   },
   "outputs": [],
   "source": []
  }
 ],
 "metadata": {
  "anaconda-cloud": {},
  "kernelspec": {
   "display_name": "Python [conda env:py352]",
   "language": "python",
   "name": "conda-env-py352-py"
  },
  "language_info": {
   "codemirror_mode": {
    "name": "ipython",
    "version": 3
   },
   "file_extension": ".py",
   "mimetype": "text/x-python",
   "name": "python",
   "nbconvert_exporter": "python",
   "pygments_lexer": "ipython3",
   "version": "3.5.2"
  }
 },
 "nbformat": 4,
 "nbformat_minor": 2
}
